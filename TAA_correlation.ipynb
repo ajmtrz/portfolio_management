{
 "cells": [
  {
   "cell_type": "code",
   "execution_count": 72,
   "metadata": {},
   "outputs": [],
   "source": [
    "import datetime\n",
    "import pytz\n",
    "import numpy as np\n",
    "import pandas as pd\n",
    "import matplotlib.pyplot as plt\n",
    "from matplotlib import cycler\n",
    "import MetaTrader5 as mt5\n",
    "import warnings\n",
    "\n",
    "warnings.filterwarnings(\"ignore\")"
   ]
  },
  {
   "cell_type": "code",
   "execution_count": 73,
   "metadata": {},
   "outputs": [],
   "source": [
    "colors = cycler('color',\n",
    "                ['#669FEE', '#66EE91', '#9988DD',\n",
    "                 '#EECC55', '#88BB44', '#FFBBBB'])\n",
    "plt.rc('figure', facecolor='#313233')\n",
    "plt.rc('axes', facecolor=\"#313233\", edgecolor='none',\n",
    "       axisbelow=True, grid=True, prop_cycle=colors,\n",
    "       labelcolor='gray')\n",
    "plt.rc('grid', color='474A4A', linestyle='solid')\n",
    "plt.rc('xtick', color='gray')\n",
    "plt.rc('ytick', direction='out', color='gray')\n",
    "plt.rc('legend', facecolor=\"#313233\", edgecolor=\"#313233\")\n",
    "plt.rc(\"text\", color=\"#C9C9C9\")"
   ]
  },
  {
   "cell_type": "code",
   "execution_count": 74,
   "metadata": {},
   "outputs": [],
   "source": [
    "# Time\n",
    "timezone = pytz.timezone(\"Europe/Paris\")\n",
    "time_from = datetime.datetime(2000, 1, 1, tzinfo = timezone)\n",
    "time_to = datetime.datetime.now(timezone) + datetime.timedelta(days=1)\n",
    "# Metatrader 5 Darwinex ETF\n",
    "if mt5.initialize():\n",
    "    symbols = mt5.symbols_get()\n",
    "    list_tickers = [symbol.name for symbol in symbols if \"ETF\" in symbol.path]\n",
    "    database = [mt5.copy_rates_range(ticker, mt5.TIMEFRAME_MN1, time_from, time_to) for ticker in list_tickers]\n",
    "    df = pd.DataFrame()\n",
    "    for ticker, data in zip(list_tickers, database):\n",
    "        temp_df = pd.DataFrame(data['close'], index=data['time'], columns=[ticker])\n",
    "        df = pd.concat([df, temp_df], axis=1)\n",
    "    df.index.names = ['time']\n",
    "    df.index = pd.to_datetime(df.index, unit='s')\n",
    "    data = df.dropna()"
   ]
  },
  {
   "cell_type": "code",
   "execution_count": 75,
   "metadata": {},
   "outputs": [],
   "source": [
    "# Calcular el periodo de espera y el periodo de retención \n",
    "# (Se calcula el rendimiento anual pasado con el mensual siguiente)\n",
    "for col in list_tickers:\n",
    "    data[f'pct+1 {col}'] = data[col].pct_change(-1)\n",
    "    data[f'pct-12 {col}'] = data[col].pct_change(12)"
   ]
  },
  {
   "cell_type": "code",
   "execution_count": 76,
   "metadata": {},
   "outputs": [],
   "source": [
    "# Split de datos\n",
    "split = int(0.6 * len(data))\n",
    "train_set = data.iloc[:split, :]\n",
    "test_set = data.iloc[split:, :]"
   ]
  },
  {
   "cell_type": "code",
   "execution_count": 77,
   "metadata": {},
   "outputs": [],
   "source": [
    "# Cálculo de la correlación\n",
    "corr = []\n",
    "for col in list_tickers:\n",
    "    cor = train_set[[f'pct-12 {col}', f'pct+1 {col}']].corr().values[0][1]\n",
    "    corr.append(cor)\n",
    "correlation = pd.DataFrame(corr, index=list_tickers, columns=[\"Corr\"])\n",
    "correlation = correlation.sort_values(by=\"Corr\", ascending=False)\n",
    "# Seleccionar los mejores activos\n",
    "best_tickers = list(correlation.loc[correlation['Corr'] > 0.15].index)"
   ]
  },
  {
   "cell_type": "code",
   "execution_count": 78,
   "metadata": {},
   "outputs": [],
   "source": [
    "# Encontrar los vectores mean y std\n",
    "columns = [f'pct-12 {col}' for col in best_tickers]\n",
    "train_set_mean = train_set[columns].mean()\n",
    "train_set_std = train_set[columns].std()"
   ]
  },
  {
   "cell_type": "code",
   "execution_count": 79,
   "metadata": {},
   "outputs": [],
   "source": [
    "# Crear los z-scores\n",
    "train_set[columns] = (train_set[columns] - train_set_mean) / train_set_std\n",
    "test_set[columns] = (test_set[columns] - train_set_mean) / train_set_std\n",
    "# Encontrar las medianas\n",
    "median = train_set[columns].median()"
   ]
  },
  {
   "cell_type": "code",
   "execution_count": 80,
   "metadata": {},
   "outputs": [
    {
     "data": {
      "text/plain": [
       "<Axes: xlabel='time'>"
      ]
     },
     "execution_count": 80,
     "metadata": {},
     "output_type": "execute_result"
    },
    {
     "data": {
      "image/png": "[encoded data removed]",
      "text/plain": [
       "<Figure size 640x480 with 1 Axes>"
      ]
     },
     "metadata": {},
     "output_type": "display_data"
    }
   ],
   "source": [
    "# Señales y beneficios\n",
    "for i in range(len(columns)):\n",
    "    # Columna para señal\n",
    "    test_set[f'signal {columns[i]}'] = 0\n",
    "    # -1 si z-score < median\n",
    "    test_set.loc[test_set[f'{columns[i]}'] < median[i], f'signal {columns[i]}'] = -1\n",
    "    # 1 si z-score > median\n",
    "    test_set.loc[test_set[f'{columns[i]}'] > median[i], f'signal {columns[i]}'] = 1\n",
    "    # Beneficio operación\n",
    "    test_set[f'profit {columns[i]}'] = (test_set[f'signal {columns[i]}'].shift(1)) *\\\n",
    "        test_set[f'pct-12 {list_tickers[i]}']\n",
    "# Visualizar\n",
    "test_set.filter(regex='^profit').dropna().cumsum().sum(axis=1).plot()"
   ]
  }
 ],
 "metadata": {
  "kernelspec": {
   "display_name": "base",
   "language": "python",
   "name": "python3"
  },
  "language_info": {
   "codemirror_mode": {
    "name": "ipython",
    "version": 3
   },
   "file_extension": ".py",
   "mimetype": "text/x-python",
   "name": "python",
   "nbconvert_exporter": "python",
   "pygments_lexer": "ipython3",
   "version": "3.10.8"
  }
 },
 "nbformat": 4,
 "nbformat_minor": 2
}
